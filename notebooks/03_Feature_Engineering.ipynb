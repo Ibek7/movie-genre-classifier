{
 "cells": [
  {
   "cell_type": "code",
   "execution_count": 7,
   "id": "2dbf4fac",
   "metadata": {},
   "outputs": [],
   "source": [
    "from features.vectorizer import fit_vectorizer, transform_plots\n",
    "import pandas as pd"
   ]
  },
  {
   "cell_type": "code",
   "execution_count": 8,
   "id": "c729b375",
   "metadata": {},
   "outputs": [],
   "source": [
    "df = pd.read_csv(\"../data/processed/cleaned_plots.csv\")"
   ]
  },
  {
   "cell_type": "code",
   "execution_count": 9,
   "id": "dc80c732",
   "metadata": {},
   "outputs": [
    {
     "name": "stdout",
     "output_type": "stream",
     "text": [
      "Vocabulary size: 3000\n"
     ]
    }
   ],
   "source": [
    "vec = fit_vectorizer(df[\"Plot\"])\n",
    "print(f\"Vocabulary size: {len(vec.vocabulary_)}\")"
   ]
  },
  {
   "cell_type": "code",
   "execution_count": 10,
   "id": "f7ae2573",
   "metadata": {},
   "outputs": [
    {
     "name": "stdout",
     "output_type": "stream",
     "text": [
      "Feature matrix shape: (28484, 3000)\n"
     ]
    }
   ],
   "source": [
    "X = transform_plots(vec, df[\"Plot\"])\n",
    "print(f\"Feature matrix shape: {X.shape}\")"
   ]
  },
  {
   "cell_type": "code",
   "execution_count": 11,
   "id": "e5b814c7",
   "metadata": {},
   "outputs": [
    {
     "data": {
      "text/plain": [
       "['../models/tfidf_vectorizer.joblib']"
      ]
     },
     "execution_count": 11,
     "metadata": {},
     "output_type": "execute_result"
    }
   ],
   "source": [
    "import joblib\n",
    "joblib.dump(vec, \"../models/tfidf_vectorizer.joblib\")"
   ]
  }
 ],
 "metadata": {
  "kernelspec": {
   "display_name": ".venv",
   "language": "python",
   "name": "python3"
  },
  "language_info": {
   "codemirror_mode": {
    "name": "ipython",
    "version": 3
   },
   "file_extension": ".py",
   "mimetype": "text/x-python",
   "name": "python",
   "nbconvert_exporter": "python",
   "pygments_lexer": "ipython3",
   "version": "3.11.7"
  }
 },
 "nbformat": 4,
 "nbformat_minor": 5
}
