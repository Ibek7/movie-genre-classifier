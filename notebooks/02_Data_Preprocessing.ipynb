{
 "cells": [
  {
   "cell_type": "code",
   "execution_count": 5,
   "id": "86fbebd8",
   "metadata": {},
   "outputs": [],
   "source": [
    "from preprocessing.cleaner import clean_and_save\n",
    "from preprocessing.tokenizer import tokenize"
   ]
  },
  {
   "cell_type": "code",
   "execution_count": 6,
   "id": "8bc93089",
   "metadata": {},
   "outputs": [
    {
     "name": "stdout",
     "output_type": "stream",
     "text": [
      "✅ Cleaned data written to data/processed/cleaned_plots.csv\n"
     ]
    }
   ],
   "source": [
    "# 1) Clean the raw CSV and write out the cleaned version\n",
    "clean_and_save(\n",
    "    \"../data/raw/wiki_movie_plots_deduped.csv\",\n",
    "    \"../data/processed/cleaned_plots.csv\"\n",
    ")\n",
    "print(\"✅ Cleaned data written to data/processed/cleaned_plots.csv\")"
   ]
  },
  {
   "cell_type": "code",
   "execution_count": 7,
   "id": "292fd8e0",
   "metadata": {},
   "outputs": [
    {
     "name": "stdout",
     "output_type": "stream",
     "text": [
      "✅ Cleaned data (without 'unknown') written to data/processed/cleaned_plots.csv\n"
     ]
    }
   ],
   "source": [
    "# Remove rows where the first genre is 'unknown' after cleaning\n",
    "import pandas as pd\n",
    "df = pd.read_csv(\"../data/processed/cleaned_plots.csv\")\n",
    "df[\"FirstGenre\"] = df[\"Genre\"].str.split(\"|\").apply(lambda g: g[0])\n",
    "df = df[df[\"FirstGenre\"].str.lower() != \"unknown\"]\n",
    "df.to_csv(\"../data/processed/cleaned_plots.csv\", index=False)\n",
    "print(\"✅ Cleaned data (without 'unknown') written to data/processed/cleaned_plots.csv\")"
   ]
  },
  {
   "cell_type": "code",
   "execution_count": 8,
   "id": "89d4febc",
   "metadata": {},
   "outputs": [
    {
     "name": "stdout",
     "output_type": "stream",
     "text": [
      "['film', 'open', 'bandit', 'break', 'railroad', 'telegraph', 'office', 'force', 'operator', 'gunpoint', 'train', 'stop', 'transmit', 'order', 'engineer', 'fill', 'locomotive', 's', 'tender', 'station']\n"
     ]
    }
   ],
   "source": [
    "import pandas as pd\n",
    "\n",
    "# 2) Load your cleaned data\n",
    "df = pd.read_csv(\"../data/processed/cleaned_plots.csv\")\n",
    "df.head()\n",
    "\n",
    "# 3) Tokenize a sample plot\n",
    "sample_plot = df.loc[0, \"Plot\"]\n",
    "print(tokenize(sample_plot)[:20])  # show first 20 tokens"
   ]
  }
 ],
 "metadata": {
  "kernelspec": {
   "display_name": ".venv",
   "language": "python",
   "name": "python3"
  },
  "language_info": {
   "codemirror_mode": {
    "name": "ipython",
    "version": 3
   },
   "file_extension": ".py",
   "mimetype": "text/x-python",
   "name": "python",
   "nbconvert_exporter": "python",
   "pygments_lexer": "ipython3",
   "version": "3.11.7"
  }
 },
 "nbformat": 4,
 "nbformat_minor": 5
}
